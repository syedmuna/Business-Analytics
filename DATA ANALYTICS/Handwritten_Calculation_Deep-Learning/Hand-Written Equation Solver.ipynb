{
 "cells": [
  {
   "cell_type": "markdown",
   "metadata": {},
   "source": [
    "### 1. Importing the Libraries"
   ]
  },
  {
   "cell_type": "code",
   "execution_count": 53,
   "metadata": {},
   "outputs": [],
   "source": [
    "import numpy as np\n",
    "import cv2\n",
    "import pandas as pd\n",
    "import tensorflow as tf\n",
    "import matplotlib.pyplot as plt\n",
    "from imutils.contours import sort_contours\n",
    "import imutils\n",
    "from tensorflow.keras import optimizers\n",
    "from tensorflow.keras.layers import Input, Dense\n",
    "from tensorflow.keras.models import Sequential\n",
    "from tensorflow.keras.layers import Conv2D\n",
    "from tensorflow.keras.layers import MaxPooling2D\n",
    "from tensorflow.keras.layers import Dense\n",
    "from tensorflow.keras.layers import Flatten\n",
    "from tensorflow.keras.layers import Dropout,BatchNormalization\n",
    "from tensorflow.keras.preprocessing.image import ImageDataGenerator\n",
    "import os\n",
    "import warnings\n",
    "warnings.filterwarnings('ignore')\n",
    "import random\n",
    "random.seed(123)"
   ]
  },
  {
   "cell_type": "markdown",
   "metadata": {},
   "source": [
    "### 2. Importing dataset, data augmentation and train-validation split"
   ]
  },
  {
   "cell_type": "code",
   "execution_count": 54,
   "metadata": {},
   "outputs": [],
   "source": [
    "train_datagen = ImageDataGenerator(\n",
    "    rescale = 1./255,#If None or 0, no rescaling is applied.\n",
    "    shear_range = 0.2,  #Float. Shear Intensity (Shear angle in counter-clockwise direction in degrees)\n",
    "    zoom_range = 0.2,  # Float or [lower, upper]. Range for random zoom. \n",
    "    validation_split = 0.30 \n",
    ")"
   ]
  },
  {
   "cell_type": "code",
   "execution_count": 55,
   "metadata": {},
   "outputs": [],
   "source": [
    "#path of the data\n",
    "data_path='Downloads/files/'"
   ]
  },
  {
   "cell_type": "code",
   "execution_count": 56,
   "metadata": {},
   "outputs": [
    {
     "name": "stdout",
     "output_type": "stream",
     "text": [
      "Found 31051 images belonging to 13 classes.\n"
     ]
    }
   ],
   "source": [
    "train_set = train_datagen.flow_from_directory(\n",
    "    data_path, #path of the data\n",
    "    target_size = (28, 28), #The dimensions to which all images found will be resized.\n",
    "    color_mode = 'grayscale',#Whether the images will be converted to have 1 or 3 color channels.\n",
    "    batch_size = 10,#size of the batches of data (default: 32).\n",
    "    class_mode = 'categorical',#- \"categorical\": 2D numpy array of one-hot encoded labels. Supports multi-label output. -\n",
    "    shuffle = True,#whether to shuffle the data (default: True)\n",
    "    subset='training',#Subset of data (\"training\" or \"validation\")\n",
    "    seed = 123\n",
    ")"
   ]
  },
  {
   "cell_type": "code",
   "execution_count": 57,
   "metadata": {},
   "outputs": [
    {
     "name": "stdout",
     "output_type": "stream",
     "text": [
      "Found 13301 images belonging to 13 classes.\n"
     ]
    }
   ],
   "source": [
    "valid_set = train_datagen.flow_from_directory(\n",
    "    data_path, #path of the data\n",
    "    target_size = (28, 28), #The dimensions to which all images found will be resized.\n",
    "    color_mode = 'grayscale',#Whether the images will be converted to have 1 or 3 color channels.\n",
    "    batch_size = 10,#size of the batches of data (default: 32).\n",
    "    class_mode = 'categorical',##- \"categorical\": 2D numpy array of one-hot encoded labels. Supports multi-label output. -\n",
    "    shuffle = True,#whether to shuffle the data (default: True)\n",
    "    subset='validation',#Subset of data (\"training\" or \"validation\")\n",
    "    seed = 123\n",
    ")"
   ]
  },
  {
   "cell_type": "markdown",
   "metadata": {},
   "source": [
    "### 3. Model Implementation"
   ]
  },
  {
   "cell_type": "code",
   "execution_count": 72,
   "metadata": {},
   "outputs": [],
   "source": [
    "model3 = Sequential()\n",
    "model3.add(Conv2D(10, (3, 3), input_shape=(28, 28, 1), activation='relu'))\n",
    "model3.add(MaxPooling2D(pool_size=(2, 2)))\n",
    "model3.add(Conv2D(5, (3, 3), activation='relu'))\n",
    "model3.add(MaxPooling2D(pool_size=(2, 2)))\n",
    "model3.add(Dropout(0.2))\n",
    "model3.add(Flatten())\n",
    "model3.add(Dense(64, activation='relu'))\n",
    "model3.add(Dense(13, activation='softmax'))"
   ]
  },
  {
   "cell_type": "code",
   "execution_count": 73,
   "metadata": {},
   "outputs": [],
   "source": [
    "# Compile model\n",
    "model3.compile(loss='categorical_crossentropy', optimizer='adam', metrics=['accuracy'])"
   ]
  },
  {
   "cell_type": "code",
   "execution_count": 74,
   "metadata": {},
   "outputs": [
    {
     "name": "stdout",
     "output_type": "stream",
     "text": [
      "Epoch 1/20\n",
      "3106/3106 [==============================] - 50s 16ms/step - loss: 1.1714 - accuracy: 0.6266 - val_loss: 0.7330 - val_accuracy: 0.7799\n",
      "Epoch 2/20\n",
      "3106/3106 [==============================] - 48s 15ms/step - loss: 0.7298 - accuracy: 0.7700 - val_loss: 0.5094 - val_accuracy: 0.8445\n",
      "Epoch 3/20\n",
      "3106/3106 [==============================] - 49s 16ms/step - loss: 0.5874 - accuracy: 0.8160 - val_loss: 0.4237 - val_accuracy: 0.8711\n",
      "Epoch 4/20\n",
      "3106/3106 [==============================] - 47s 15ms/step - loss: 0.4934 - accuracy: 0.8424 - val_loss: 0.3708 - val_accuracy: 0.8858\n",
      "Epoch 5/20\n",
      "3106/3106 [==============================] - 47s 15ms/step - loss: 0.4269 - accuracy: 0.8646 - val_loss: 0.3214 - val_accuracy: 0.9007\n",
      "Epoch 6/20\n",
      "3106/3106 [==============================] - 47s 15ms/step - loss: 0.3944 - accuracy: 0.8744 - val_loss: 0.3086 - val_accuracy: 0.9059\n",
      "Epoch 7/20\n",
      "3106/3106 [==============================] - 48s 15ms/step - loss: 0.3683 - accuracy: 0.8819 - val_loss: 0.2892 - val_accuracy: 0.9116\n",
      "Epoch 8/20\n",
      "3106/3106 [==============================] - 47s 15ms/step - loss: 0.3512 - accuracy: 0.8890 - val_loss: 0.2717 - val_accuracy: 0.9171\n",
      "Epoch 9/20\n",
      "3106/3106 [==============================] - 47s 15ms/step - loss: 0.3399 - accuracy: 0.8921 - val_loss: 0.2543 - val_accuracy: 0.9238\n",
      "Epoch 10/20\n",
      "3106/3106 [==============================] - 48s 15ms/step - loss: 0.3240 - accuracy: 0.8950 - val_loss: 0.2423 - val_accuracy: 0.9260\n",
      "Epoch 11/20\n",
      "3106/3106 [==============================] - 48s 15ms/step - loss: 0.3195 - accuracy: 0.8966 - val_loss: 0.2523 - val_accuracy: 0.9249\n",
      "Epoch 12/20\n",
      "3106/3106 [==============================] - 47s 15ms/step - loss: 0.3119 - accuracy: 0.9000 - val_loss: 0.2621 - val_accuracy: 0.9212\n",
      "Epoch 13/20\n",
      "3106/3106 [==============================] - 47s 15ms/step - loss: 0.3087 - accuracy: 0.9015 - val_loss: 0.2236 - val_accuracy: 0.9326\n",
      "Epoch 14/20\n",
      "3106/3106 [==============================] - 48s 15ms/step - loss: 0.2950 - accuracy: 0.9043 - val_loss: 0.2232 - val_accuracy: 0.9328\n",
      "Epoch 15/20\n",
      "3106/3106 [==============================] - 47s 15ms/step - loss: 0.2866 - accuracy: 0.9082 - val_loss: 0.2240 - val_accuracy: 0.9323\n",
      "Epoch 16/20\n",
      "3106/3106 [==============================] - 48s 15ms/step - loss: 0.2866 - accuracy: 0.9089 - val_loss: 0.2211 - val_accuracy: 0.9336\n",
      "Epoch 17/20\n",
      "3106/3106 [==============================] - 48s 15ms/step - loss: 0.2769 - accuracy: 0.9118 - val_loss: 0.2114 - val_accuracy: 0.9372\n",
      "Epoch 18/20\n",
      "3106/3106 [==============================] - 47s 15ms/step - loss: 0.2723 - accuracy: 0.9127 - val_loss: 0.2116 - val_accuracy: 0.9395\n",
      "Epoch 19/20\n",
      "3106/3106 [==============================] - 47s 15ms/step - loss: 0.2724 - accuracy: 0.9113 - val_loss: 0.2101 - val_accuracy: 0.9353\n",
      "Epoch 20/20\n",
      "3106/3106 [==============================] - 47s 15ms/step - loss: 0.2685 - accuracy: 0.9123 - val_loss: 0.2088 - val_accuracy: 0.9378\n"
     ]
    }
   ],
   "source": [
    "M3=model3.fit(train_set,validation_data=valid_set, epochs=20,verbose=1)"
   ]
  },
  {
   "cell_type": "markdown",
   "metadata": {},
   "source": [
    "### 4. Performance Evaluation"
   ]
  },
  {
   "cell_type": "code",
   "execution_count": 75,
   "metadata": {},
   "outputs": [],
   "source": [
    "def plot_performance(model_history):\n",
    "    plt.figure(figsize=(15, 5))\n",
    "    plt.subplot(1,2,1)\n",
    "    plt.grid(True)\n",
    "    plt.plot(model_history.history['accuracy'], 'b', label='train_acc')\n",
    "    plt.plot(model_history.history['val_accuracy'], 'y', label='val_acc')\n",
    "    plt.legend()\n",
    "    plt.title(\"Train-Validation accuracy vs Epochs\")\n",
    "    plt.subplot(1,2,2)\n",
    "    plt.grid(True)\n",
    "    plt.plot(model_history.history['loss'], 'b--', label='train_loss')\n",
    "    plt.plot(model_history.history['val_loss'], 'y--', label='val_loss')\n",
    "    plt.title(\"Train-Validation Loss vs Epochs\")\n",
    "    plt.legend()\n",
    "    plt.show()"
   ]
  },
  {
   "cell_type": "code",
   "execution_count": 76,
   "metadata": {},
   "outputs": [
    {
     "data": {
      "image/png": "[encoded data removed]",
      "text/plain": [
       "<Figure size 1080x360 with 2 Axes>"
      ]
     },
     "metadata": {
      "needs_background": "light"
     },
     "output_type": "display_data"
    }
   ],
   "source": [
    "plot_performance(M3)"
   ]
  },
  {
   "cell_type": "markdown",
   "metadata": {},
   "source": [
    "### 5. Saving the Model Weights"
   ]
  },
  {
   "cell_type": "code",
   "execution_count": 77,
   "metadata": {},
   "outputs": [],
   "source": [
    "model_json = model3.to_json()\n",
    "with open(\"model_final.json\", \"w\") as json_file:\n",
    "    json_file.write(model_json)\n",
    "# serialize weights to HDF5\n",
    "model3.save_weights(\"model3_final.h5\")"
   ]
  },
  {
   "cell_type": "code",
   "execution_count": 78,
   "metadata": {},
   "outputs": [],
   "source": [
    "def prediction(img):\n",
    "    #plt.imshow(img, cmap = 'gray')\n",
    "    img = cv2.resize(img,(28, 28))\n",
    "    #norm_image = cv2.normalize(img, None, alpha = 0, beta = 1, norm_type = cv2.NORM_MINMAX, dtype = cv2.CV_32F)\n",
    "    norm_image=img/255.0\n",
    "    norm_image = norm_image.reshape((norm_image.shape[0], norm_image.shape[1], 1))\n",
    "    case = np.asarray([norm_image])\n",
    "    pred = model3.predict_classes([case])\n",
    "    \n",
    "    return ([i for i in train_set.class_indices if train_set.class_indices[i]==(pred[0])][0],pred)"
   ]
  },
  {
   "cell_type": "code",
   "execution_count": 79,
   "metadata": {},
   "outputs": [
    {
     "data": {
      "text/plain": [
       "{'+': 0,\n",
       " '-': 1,\n",
       " '0': 2,\n",
       " '1': 3,\n",
       " '2': 4,\n",
       " '3': 5,\n",
       " '4': 6,\n",
       " '5': 7,\n",
       " '6': 8,\n",
       " '7': 9,\n",
       " '8': 10,\n",
       " '9': 11,\n",
       " 'times': 12}"
      ]
     },
     "execution_count": 79,
     "metadata": {},
     "output_type": "execute_result"
    }
   ],
   "source": [
    "train_set.class_indices"
   ]
  },
  {
   "cell_type": "code",
   "execution_count": 80,
   "metadata": {},
   "outputs": [
    {
     "data": {
      "text/plain": [
       "{'+': 0,\n",
       " '-': 1,\n",
       " '0': 2,\n",
       " '1': 3,\n",
       " '2': 4,\n",
       " '3': 5,\n",
       " '4': 6,\n",
       " '5': 7,\n",
       " '6': 8,\n",
       " '7': 9,\n",
       " '8': 10,\n",
       " '9': 11,\n",
       " 'times': 12}"
      ]
     },
     "execution_count": 80,
     "metadata": {},
     "output_type": "execute_result"
    }
   ],
   "source": [
    "label_map = (train_set.class_indices)\n",
    "label_map"
   ]
  },
  {
   "cell_type": "code",
   "execution_count": 81,
   "metadata": {},
   "outputs": [],
   "source": [
    "def image_path(path):\n",
    "    image=cv2.imread(path)\n",
    "    gray = cv2.cvtColor(image, cv2.COLOR_BGR2GRAY)\n",
    "    blurred = cv2.GaussianBlur(image, (5, 5), 0)\n",
    "# perform edge detection, find contours in the edge map, and sort the\n",
    "# resulting contours from left-to-right\n",
    "    edged = cv2.Canny(blurred, 30, 150)\n",
    "    cnts = cv2.findContours(edged.copy(), cv2.RETR_EXTERNAL,cv2.CHAIN_APPROX_SIMPLE)\n",
    "    cnts = imutils.grab_contours(cnts)\n",
    "    cnts = sort_contours(cnts, method=\"left-to-right\")[0]\n",
    "    chars=[]\n",
    "    for c in cnts:\n",
    "    # compute the bounding box of the contour\n",
    "        (x, y, w, h) = cv2.boundingRect(c)\n",
    "    # filter out bounding boxes, ensuring they are neither too small\n",
    "    # nor too large\n",
    "        if w*h>1200:\n",
    "        # extract the character and threshold it to make the character\n",
    "        # appear as *white* (foreground) on a *black* background, then\n",
    "        # grab the width and height of the thresholded image\n",
    "            roi = gray[y:y + h, x:x + w]\n",
    "            chars.append(prediction(roi))\n",
    "            cv2.rectangle(image, (x, y), (x + w, y + h), (0, 255, 0), 2)\n",
    "    return chars,image"
   ]
  },
  {
   "cell_type": "code",
   "execution_count": 82,
   "metadata": {},
   "outputs": [],
   "source": [
    "\n",
    "path='Downloads/test1.png'\n",
    "chars,image=image_path(path)"
   ]
  },
  {
   "cell_type": "code",
   "execution_count": 83,
   "metadata": {},
   "outputs": [
    {
     "data": {
      "text/plain": [
       "[('5', array([7], dtype=int64)),\n",
       " ('+', array([0], dtype=int64)),\n",
       " ('6', array([8], dtype=int64))]"
      ]
     },
     "execution_count": 83,
     "metadata": {},
     "output_type": "execute_result"
    }
   ],
   "source": [
    "chars"
   ]
  },
  {
   "cell_type": "code",
   "execution_count": 84,
   "metadata": {},
   "outputs": [
    {
     "data": {
      "text/plain": [
       "<matplotlib.image.AxesImage at 0x22adf9d0eb0>"
      ]
     },
     "execution_count": 84,
     "metadata": {},
     "output_type": "execute_result"
    },
    {
     "data": {
      "image/png": "[encoded data removed]",
      "text/plain": [
       "<Figure size 360x360 with 1 Axes>"
      ]
     },
     "metadata": {
      "needs_background": "light"
     },
     "output_type": "display_data"
    }
   ],
   "source": [
    "plt.figure(figsize=(5,5))\n",
    "plt.imshow(image)"
   ]
  },
  {
   "cell_type": "code",
   "execution_count": 85,
   "metadata": {},
   "outputs": [],
   "source": [
    "def NumericalSolver(characters):\n",
    "        c=[]\n",
    "        \n",
    "        for i in characters:\n",
    "            if i[0][:]=='x':\n",
    "                pos = i[0][:].replace(\"x\",\"*\")\n",
    "                c.append(pos)\n",
    "            else:\n",
    "                c.append(i[0][:])\n",
    "\n",
    "        EQUATION=' '\n",
    "        for i in c:\n",
    "            EQUATION=EQUATION + (i[0][0])\n",
    "        print('The Handwritten equation is :',EQUATION)\n",
    "        print('The result is : ',eval(EQUATION))"
   ]
  },
  {
   "cell_type": "code",
   "execution_count": 86,
   "metadata": {},
   "outputs": [
    {
     "name": "stdout",
     "output_type": "stream",
     "text": [
      "The Handwritten equation is :  5+6\n",
      "The result is :  11\n"
     ]
    }
   ],
   "source": [
    "NumericalSolver(chars)"
   ]
  },
  {
   "cell_type": "code",
   "execution_count": 89,
   "metadata": {},
   "outputs": [],
   "source": [
    "path='Downloads/files/test.png'\n",
    "chars,image=image_path(path)"
   ]
  },
  {
   "cell_type": "code",
   "execution_count": 90,
   "metadata": {},
   "outputs": [
    {
     "data": {
      "text/plain": [
       "<matplotlib.image.AxesImage at 0x22ae09d3640>"
      ]
     },
     "execution_count": 90,
     "metadata": {},
     "output_type": "execute_result"
    },
    {
     "data": {
      "image/png": "[encoded data removed]",
      "text/plain": [
       "<Figure size 360x360 with 1 Axes>"
      ]
     },
     "metadata": {
      "needs_background": "light"
     },
     "output_type": "display_data"
    }
   ],
   "source": [
    "plt.figure(figsize=(5,5))\n",
    "plt.imshow(image)"
   ]
  },
  {
   "cell_type": "code",
   "execution_count": 91,
   "metadata": {},
   "outputs": [
    {
     "name": "stdout",
     "output_type": "stream",
     "text": [
      "The Handwritten equation is :  7+3\n",
      "The result is :  10\n"
     ]
    }
   ],
   "source": [
    "NumericalSolver(chars)"
   ]
  },
  {
   "cell_type": "code",
   "execution_count": null,
   "metadata": {},
   "outputs": [],
   "source": []
  }
 ],
 "metadata": {
  "kernelspec": {
   "display_name": "Python 3",
   "language": "python",
   "name": "python3"
  },
  "language_info": {
   "codemirror_mode": {
    "name": "ipython",
    "version": 3
   },
   "file_extension": ".py",
   "mimetype": "text/x-python",
   "name": "python",
   "nbconvert_exporter": "python",
   "pygments_lexer": "ipython3",
   "version": "3.8.5"
  }
 },
 "nbformat": 4,
 "nbformat_minor": 4
}
